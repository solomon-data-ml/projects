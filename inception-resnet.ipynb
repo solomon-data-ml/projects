{
 "cells": [
  {
   "cell_type": "markdown",
   "metadata": {},
   "source": [
    "**Inception Resnet Layers:**\n",
    "First we have Convolution, then MaxPooling, Average Pooling, Concat, Dropout, Fully Conneted Layer, Softmax and then the Residual."
   ]
  },
  {
   "cell_type": "markdown",
   "metadata": {},
   "source": [
    "kaggle/input/natural-images/natural_images/fruit/fruit_0618.jpg\n",
    "/kaggle/input/natural-images/natural_images/person/person_0912.jpg\n",
    "/kaggle/input/natural-images/natural_images/motorbike/motorbike_0363.jpg\n",
    "/kaggle/input/natural-images/data/natural_images/fruit/fruit_0862.jpg\n",
    "/kaggle/input/natural-images/data/natural_images/cat/cat_0093.jpg\n",
    "\n",
    "\n",
    "\n",
    "\n"
   ]
  },
  {
   "cell_type": "code",
   "execution_count": 1,
   "metadata": {
    "_cell_guid": "79c7e3d0-c299-4dcb-8224-4455121ee9b0",
    "_uuid": "d629ff2d2480ee46fbb7e2d37f6b5fab8052498a"
   },
   "outputs": [],
   "source": [
    "import numpy as np\n",
    "import tensorflow.keras  \n",
    "from tensorflow.keras.preprocessing.image import img_to_array,load_img\n",
    "from IPython.display import Image\n",
    "import tensorflow as tf\n",
    "from tensorflow.keras import backend as k"
   ]
  },
  {
   "cell_type": "code",
   "execution_count": 2,
   "metadata": {},
   "outputs": [
    {
     "data": {
      "image/jpeg": "[encoded data removed]",
      "text/plain": [
       "<IPython.core.display.Image object>"
      ]
     },
     "execution_count": 2,
     "metadata": {},
     "output_type": "execute_result"
    }
   ],
   "source": [
    "Image(filename='/kaggle/input/natural-images/natural_images/fruit/fruit_0862.jpg')"
   ]
  },
  {
   "cell_type": "markdown",
   "metadata": {},
   "source": [
    "We are going to:\n",
    "1. Resize the image to 299 by 299 so as to fit to inception requirement.\n",
    "2. Add Additional dimension"
   ]
  },
  {
   "cell_type": "code",
   "execution_count": 3,
   "metadata": {},
   "outputs": [],
   "source": [
    "a = load_img('/kaggle/input/natural-images/natural_images/fruit/fruit_0862.jpg', target_size=(299,299))\n",
    "image = img_to_array(a)\n",
    "paddedimage = np.expand_dims(image, axis=0) \n",
    " \n",
    " "
   ]
  },
  {
   "cell_type": "code",
   "execution_count": 4,
   "metadata": {},
   "outputs": [
    {
     "name": "stderr",
     "output_type": "stream",
     "text": [
      "Using TensorFlow backend.\n"
     ]
    }
   ],
   "source": [
    "from keras.applications.inception_resnet_v2 import InceptionResNetV2, decode_predictions\n"
   ]
  },
  {
   "cell_type": "code",
   "execution_count": 5,
   "metadata": {},
   "outputs": [
    {
     "name": "stdout",
     "output_type": "stream",
     "text": [
      "Downloading data from https://github.com/fchollet/deep-learning-models/releases/download/v0.7/inception_resnet_v2_weights_tf_dim_ordering_tf_kernels.h5\n",
      "225214464/225209952 [==============================] - 2s 0us/step\n"
     ]
    }
   ],
   "source": [
    "inception_model = InceptionResNetV2(weights='imagenet')"
   ]
  },
  {
   "cell_type": "code",
   "execution_count": 6,
   "metadata": {},
   "outputs": [],
   "source": [
    "p = inception_model.predict(paddedimage)"
   ]
  },
  {
   "cell_type": "code",
   "execution_count": 7,
   "metadata": {},
   "outputs": [
    {
     "name": "stdout",
     "output_type": "stream",
     "text": [
      "Downloading data from https://storage.googleapis.com/download.tensorflow.org/data/imagenet_class_index.json\n",
      "40960/35363 [==================================] - 0s 0us/step\n"
     ]
    },
    {
     "data": {
      "text/plain": [
       "[[('n06596364', 'comic_book', 1.0),\n",
       "  ('n15075141', 'toilet_tissue', 0.0),\n",
       "  ('n02319095', 'sea_urchin', 0.0),\n",
       "  ('n02391049', 'zebra', 0.0),\n",
       "  ('n02389026', 'sorrel', 0.0)]]"
      ]
     },
     "execution_count": 7,
     "metadata": {},
     "output_type": "execute_result"
    }
   ],
   "source": [
    "decode_predictions(p)"
   ]
  },
  {
   "cell_type": "markdown",
   "metadata": {},
   "source": [
    "Comic book ?  haiinnnnnnnnnnnnnnnn\n",
    "Let us preprocess and check how it works!"
   ]
  },
  {
   "cell_type": "code",
   "execution_count": 8,
   "metadata": {},
   "outputs": [],
   "source": [
    "from keras.applications.inception_resnet_v2 import preprocess_input"
   ]
  },
  {
   "cell_type": "code",
   "execution_count": 9,
   "metadata": {},
   "outputs": [
    {
     "data": {
      "text/plain": [
       "[[('n07749582', 'lemon', 0.8047353),\n",
       "  ('n07747607', 'orange', 0.088515855),\n",
       "  ('n07753592', 'banana', 0.0024826804),\n",
       "  ('n07716906', 'spaghetti_squash', 0.00074345997),\n",
       "  ('n07745940', 'strawberry', 0.00069966936)]]"
      ]
     },
     "execution_count": 9,
     "metadata": {},
     "output_type": "execute_result"
    }
   ],
   "source": [
    "preprocessed = preprocess_input(paddedimage)\n",
    "p = inception_model.predict(paddedimage)\n",
    "decode_predictions(p)\n"
   ]
  },
  {
   "cell_type": "markdown",
   "metadata": {},
   "source": [
    "lemon ? ya better than Comic book :) "
   ]
  }
 ],
 "metadata": {
  "kernelspec": {
   "display_name": "Python 3",
   "language": "python",
   "name": "python3"
  },
  "language_info": {
   "codemirror_mode": {
    "name": "ipython",
    "version": 3
   },
   "file_extension": ".py",
   "mimetype": "text/x-python",
   "name": "python",
   "nbconvert_exporter": "python",
   "pygments_lexer": "ipython3",
   "version": "3.6.6"
  }
 },
 "nbformat": 4,
 "nbformat_minor": 4
}
